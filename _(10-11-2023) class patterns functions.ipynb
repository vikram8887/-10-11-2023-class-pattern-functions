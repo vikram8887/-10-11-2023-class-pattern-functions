{
 "cells": [
  {
   "cell_type": "markdown",
   "id": "322fdeb8",
   "metadata": {},
   "source": [
    "# Documantation of today class (10-11-2023) "
   ]
  },
  {
   "cell_type": "markdown",
   "id": "347d8d4f",
   "metadata": {},
   "source": [
    "### 1.) reduce funcations"
   ]
  },
  {
   "cell_type": "code",
   "execution_count": 2,
   "id": "260b5f50",
   "metadata": {},
   "outputs": [
    {
     "data": {
      "text/plain": [
       "30"
      ]
     },
     "execution_count": 2,
     "metadata": {},
     "output_type": "execute_result"
    }
   ],
   "source": [
    "import functools\n",
    "res=functools.reduce(lambda x,y:(x**3)+y,[1,2,3])\n",
    "res"
   ]
  },
  {
   "cell_type": "code",
   "execution_count": 3,
   "id": "0cddcda5",
   "metadata": {},
   "outputs": [
    {
     "data": {
      "text/plain": [
       "'hihihihihihi'"
      ]
     },
     "execution_count": 3,
     "metadata": {},
     "output_type": "execute_result"
    }
   ],
   "source": [
    "res=functools.reduce(lambda x,y:x*y,[2,3],'hi')\n",
    "res"
   ]
  },
  {
   "cell_type": "markdown",
   "id": "cefb4a5f",
   "metadata": {},
   "source": [
    "### 2.) Pattern Programs"
   ]
  },
  {
   "cell_type": "markdown",
   "id": "e1d542d5",
   "metadata": {},
   "source": [
    "* #### Patterns can be printed in python using simple for loops.\n",
    "* #### First outer loop is used to handle the number of rows and the Inner nested loop is used to handle the number of columns.\n",
    "* #### Manipulating the print statements, different number patterns, alphabet patterns, or star patterns can be printed."
   ]
  },
  {
   "cell_type": "code",
   "execution_count": null,
   "id": "c29b8774",
   "metadata": {},
   "outputs": [],
   "source": [
    "'''\n",
    "*\n",
    "* *\n",
    "* * *\n",
    "* * * *\n",
    "'''"
   ]
  },
  {
   "cell_type": "code",
   "execution_count": null,
   "id": "112034fa",
   "metadata": {},
   "outputs": [],
   "source": [
    "'''\n",
    "      *\n",
    "    * *\n",
    "  * * *\n",
    "* * * *\n",
    "\n",
    "'''"
   ]
  },
  {
   "cell_type": "code",
   "execution_count": 6,
   "id": "26d9a119",
   "metadata": {},
   "outputs": [
    {
     "name": "stdout",
     "output_type": "stream",
     "text": [
      "* \n",
      "* * \n",
      "* * * \n",
      "* * * * \n",
      "* * * * * \n",
      "* * * * * * \n"
     ]
    }
   ],
   "source": [
    "r=6                               # here what number we give that much long that stars will alongugate\n",
    "for i in range(1,r+1):\n",
    "    for  j in range(i):\n",
    "        print('*',end=' ')\n",
    "    print()"
   ]
  },
  {
   "cell_type": "code",
   "execution_count": 7,
   "id": "b4115115",
   "metadata": {},
   "outputs": [
    {
     "name": "stdout",
     "output_type": "stream",
     "text": [
      "/ \n",
      "/ / \n",
      "/ / / \n",
      "/ / / / \n",
      "/ / / / / \n"
     ]
    }
   ],
   "source": [
    "def fooTraingle(r,c):\n",
    "    for i in range(1,r+1):\n",
    "        for j in range(i):\n",
    "            print(c,end=' ')\n",
    "        print()\n",
    "fooTraingle(5,'/')"
   ]
  },
  {
   "cell_type": "code",
   "execution_count": 1,
   "id": "71ea7c28",
   "metadata": {},
   "outputs": [],
   "source": [
    "def fooTraingle(r):\n",
    "    for i in range(1,r+1):\n",
    "        for j in range(i):\n",
    "            print(j,end=' ')\n",
    "        print()"
   ]
  },
  {
   "cell_type": "code",
   "execution_count": 2,
   "id": "945830ac",
   "metadata": {},
   "outputs": [
    {
     "name": "stdout",
     "output_type": "stream",
     "text": [
      "0 \n",
      "0 1 \n",
      "0 1 2 \n",
      "0 1 2 3 \n",
      "0 1 2 3 4 \n"
     ]
    }
   ],
   "source": [
    "fooTraingle(5)"
   ]
  },
  {
   "cell_type": "code",
   "execution_count": 3,
   "id": "05da5257",
   "metadata": {},
   "outputs": [
    {
     "name": "stdout",
     "output_type": "stream",
     "text": [
      "0 1 2 3 4 5 \n",
      "  0 1 2 3 4 \n",
      "    0 1 2 3 \n",
      "      0 1 2 \n",
      "        0 1 \n",
      "          0 \n"
     ]
    }
   ],
   "source": [
    "def fooTraingle(r):\n",
    "    for i in range(r,-1,-1):\n",
    "        for j in range(i,r):\n",
    "            print(' ',end=' ')\n",
    "        for j in range(i+1):\n",
    "            print(j,end=' ')\n",
    "        print()\n",
    "fooTraingle(5) "
   ]
  },
  {
   "cell_type": "code",
   "execution_count": 4,
   "id": "a4d716d5",
   "metadata": {},
   "outputs": [
    {
     "name": "stdout",
     "output_type": "stream",
     "text": [
      "0 1 2 3 4 \n",
      "0 1 2 3 \n",
      "0 1 2 \n",
      "0 1 \n",
      "0 \n"
     ]
    }
   ],
   "source": [
    "def fooTraingle(r):\n",
    "    for i in range(5,0,-1):\n",
    "        for j in range(i):\n",
    "            print(j,end=' ')\n",
    "        print()\n",
    "fooTraingle(5)"
   ]
  },
  {
   "cell_type": "code",
   "execution_count": 5,
   "id": "f229e7d6",
   "metadata": {},
   "outputs": [
    {
     "name": "stdout",
     "output_type": "stream",
     "text": [
      "A B C D E F G \n",
      "  A B C D E F \n",
      "    A B C D E \n",
      "      A B C D \n",
      "        A B C \n",
      "          A B \n",
      "            A \n"
     ]
    }
   ],
   "source": [
    "def foopatern(r):\n",
    "    for i in range(r,-1,-1):\n",
    "        for j in range(i,r):\n",
    "            print(' ',end=' ')\n",
    "        for j in range(i+1):\n",
    "            print(chr(65+j),end=' ')\n",
    "        print()\n",
    "foopatern(6)"
   ]
  },
  {
   "cell_type": "code",
   "execution_count": 6,
   "id": "ce3a5346",
   "metadata": {},
   "outputs": [
    {
     "name": "stdout",
     "output_type": "stream",
     "text": [
      "/ / / / / \n",
      "/ / / / \n",
      "/ / / \n",
      "/ / \n",
      "/ \n"
     ]
    }
   ],
   "source": [
    "def fooTraingle(r):\n",
    "    for i in range(5,0,-1):\n",
    "        for j in range(i):\n",
    "            print('/' ,end=' ')\n",
    "        print()\n",
    "fooTraingle(5)"
   ]
  },
  {
   "cell_type": "code",
   "execution_count": 7,
   "id": "00cdc930",
   "metadata": {},
   "outputs": [
    {
     "name": "stdout",
     "output_type": "stream",
     "text": [
      "          * \n",
      "        * * * \n",
      "      * * * * * \n",
      "    * * * * * * * \n",
      "  * * * * * * * * * \n"
     ]
    }
   ],
   "source": [
    "n=5\n",
    "for i in range(n):\n",
    "    for j in range(i,n):\n",
    "        print(' ' ,end=' ')\n",
    "    for j in range(i):\n",
    "        print('*',end=' ')\n",
    "    for j in range(i+1):\n",
    "        print('*',end=' ')\n",
    "    print()"
   ]
  },
  {
   "cell_type": "code",
   "execution_count": 8,
   "id": "27e9088e",
   "metadata": {},
   "outputs": [
    {
     "name": "stdout",
     "output_type": "stream",
     "text": [
      "          0 \n",
      "        0 0 1 \n",
      "      0 1 0 1 2 \n",
      "    0 1 2 0 1 2 3 \n",
      "  0 1 2 3 0 1 2 3 4 \n"
     ]
    }
   ],
   "source": [
    "n=5\n",
    "for i in range(n):\n",
    "    for j in range(i,n):\n",
    "        print(' ' ,end=' ')\n",
    "    for j in range(i):\n",
    "        print(j,end=' ')\n",
    "    for j in range(i+1):\n",
    "        print(j,end=' ')\n",
    "    print()\n",
    "          "
   ]
  },
  {
   "cell_type": "code",
   "execution_count": 9,
   "id": "aca79aac",
   "metadata": {},
   "outputs": [
    {
     "name": "stdout",
     "output_type": "stream",
     "text": [
      "s s s s s s s s s s s s s \n",
      "  s s s s s s s s s s s \n",
      "    s s s s s s s s s \n",
      "      s s s s s s s \n",
      "        s s s s s \n",
      "          s s s \n",
      "            s \n"
     ]
    }
   ],
   "source": [
    "def lowerpyramid(n):\n",
    "    for i in range(n,-1,-1):\n",
    "        for j in range(i,n):\n",
    "            print(' ',end=' ')\n",
    "        for j in range(i):\n",
    "            print('s',end=' ')\n",
    "        for j in range(i+1):\n",
    "            print('s',end=' ')\n",
    "        print()\n",
    "lowerpyramid(6)"
   ]
  },
  {
   "cell_type": "code",
   "execution_count": 10,
   "id": "bd4f0514",
   "metadata": {},
   "outputs": [
    {
     "name": "stdout",
     "output_type": "stream",
     "text": [
      "        0 \n",
      "      0 0 1 \n",
      "    0 1 0 1 2 \n",
      "  0 1 2 0 1 2 3 \n",
      "0 1 2 3 0 1 2 3 4 \n",
      "  0 1 2 0 1 2 3 \n",
      "    0 1 0 1 2 \n",
      "      0 0 1 \n",
      "        0 \n"
     ]
    }
   ],
   "source": [
    "def funrhombus(n):\n",
    "    for i in range(n):\n",
    "        for j in range(i,n):\n",
    "            print(' ',end=' ')\n",
    "        for j in range(i):\n",
    "            print(j,end=' ')\n",
    "        for j in range(i+1):\n",
    "            print(j,end=' ')\n",
    "        print()\n",
    "    for i in range(n,-1,-1):\n",
    "        for j in range(i,n):\n",
    "            print(' ',end=' ')\n",
    "        for j in range(i):\n",
    "            print(j,end=' ')\n",
    "        for j in range(i+1):\n",
    "            print(j,end=' ')\n",
    "        print()\n",
    "funrhombus(4)"
   ]
  },
  {
   "cell_type": "code",
   "execution_count": 11,
   "id": "ecbca402",
   "metadata": {},
   "outputs": [
    {
     "name": "stdout",
     "output_type": "stream",
     "text": [
      "        A \n",
      "      A A A \n",
      "    A A A A A \n",
      "  A A A A A A A \n",
      "A A A A A A A A A \n",
      "  A A A A A A A \n",
      "    A A A A A \n",
      "      A A A \n",
      "        A \n"
     ]
    }
   ],
   "source": [
    "def funrhombus(n):\n",
    "    for i in range(n):\n",
    "        for j in range(i,n):\n",
    "            print(' ',end=' ')\n",
    "        for j in range(i):\n",
    "            print('A',end=' ')\n",
    "        for j in range(i+1):\n",
    "            print('A',end=' ')\n",
    "        print()\n",
    "    for i in range(n,-1,-1):\n",
    "        for j in range(i,n):\n",
    "            print(' ',end=' ')\n",
    "        for j in range(i):\n",
    "            print('A',end=' ')\n",
    "        for j in range(i+1):\n",
    "            print('A',end=' ')\n",
    "        print()\n",
    "funrhombus(4)"
   ]
  },
  {
   "cell_type": "code",
   "execution_count": 12,
   "id": "393f26d6",
   "metadata": {},
   "outputs": [
    {
     "name": "stdout",
     "output_type": "stream",
     "text": [
      "        * * * * * \n",
      "      * * * * * \n",
      "    * * * * * \n",
      "  * * * * * \n"
     ]
    }
   ],
   "source": [
    "def parllelogram(n):\n",
    "    for i in range(n):\n",
    "        for j in range(i,n):\n",
    "            print(' ',end=' ')\n",
    "        for j in range(i,n):\n",
    "            print('*',end=' ')\n",
    "        for j in range(i+1):\n",
    "            print('*',end=' ')\n",
    "        print()\n",
    "parllelogram(4)"
   ]
  },
  {
   "cell_type": "code",
   "execution_count": 13,
   "id": "0408a797",
   "metadata": {},
   "outputs": [
    {
     "name": "stdout",
     "output_type": "stream",
     "text": [
      "  0 1 2 0 1 2 3 \n",
      "    0 1 0 1 2 \n",
      "      0 0 1 \n",
      "        0 \n",
      "        0 \n",
      "      0 0 1 \n",
      "    0 1 0 1 2 \n",
      "  0 1 2 0 1 2 3 \n"
     ]
    }
   ],
   "source": [
    "def hourglassnumber(n):\n",
    "    for i in range(n-1,-1,-1):\n",
    "        for j in range(i,n):\n",
    "            print(' ',end=' ')\n",
    "        for j in range(i):\n",
    "            print(j,end=' ')\n",
    "        for j in range(i+1):\n",
    "            print(j,end=' ')\n",
    "        print()\n",
    "    for i in range(n):\n",
    "        for j in range(i,n):\n",
    "            print(' ',end=' ')\n",
    "        for j in range(i):\n",
    "            print(j,end=' ')\n",
    "        for j in range(i+1):\n",
    "            print(j,end=' ')\n",
    "        print()\n",
    "hourglassnumber(4) "
   ]
  }
 ],
 "metadata": {
  "kernelspec": {
   "display_name": "Python 3 (ipykernel)",
   "language": "python",
   "name": "python3"
  },
  "language_info": {
   "codemirror_mode": {
    "name": "ipython",
    "version": 3
   },
   "file_extension": ".py",
   "mimetype": "text/x-python",
   "name": "python",
   "nbconvert_exporter": "python",
   "pygments_lexer": "ipython3",
   "version": "3.11.5"
  }
 },
 "nbformat": 4,
 "nbformat_minor": 5
}
